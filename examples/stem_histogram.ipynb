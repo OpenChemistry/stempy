{
 "cells": [
  {
   "cell_type": "code",
   "execution_count": null,
   "metadata": {},
   "outputs": [],
   "source": [
    "import glob\n",
    "from stempy import io, image\n",
    "import matplotlib.pyplot as plt\n",
    "import numpy as np"
   ]
  },
  {
   "cell_type": "code",
   "execution_count": null,
   "metadata": {},
   "outputs": [],
   "source": [
    "files = glob.glob('/data/4dstem/smallScanningDiffraction/data*.dat')"
   ]
  },
  {
   "cell_type": "code",
   "execution_count": null,
   "metadata": {},
   "outputs": [],
   "source": [
    "inner_radii = [0, 40]\n",
    "outer_radii = [288, 288]\n",
    "num_bins = 100"
   ]
  },
  {
   "cell_type": "code",
   "execution_count": null,
   "metadata": {},
   "outputs": [],
   "source": [
    "reader = io.reader(files)\n",
    "all_bins, all_freqs = image.create_stem_histogram(num_bins, reader, inner_radii, outer_radii,\n",
    "                                                  scan_dimensions=(160, 160))"
   ]
  },
  {
   "cell_type": "code",
   "execution_count": null,
   "metadata": {},
   "outputs": [],
   "source": [
    "for i in range(len(all_bins)):\n",
    "    # obtain current bins and freq\n",
    "    bins = [str(element) for element in all_bins[i]]\n",
    "    freq = all_freqs[i]\n",
    "    \n",
    "    # init figure\n",
    "    fig = plt.figure(1, figsize=(16, 8))\n",
    "    hist = fig.add_subplot(111)\n",
    "    \n",
    "    # plt.bar considers the left boundary\n",
    "    x = np.arange(num_bins + 1)\n",
    "    hist.bar(x[:-1], freq, align='edge')\n",
    "    \n",
    "    plt.xticks(x[::20], bins[::20])\n",
    "    plt.title('Histogram of STEM image with inner radius = '\n",
    "                + str(inner_radii[i]) + ', outer radius = ' + str(outer_radii[i]))\n",
    "    plt.xlabel('Value')\n",
    "    plt.ylabel('Frequency')\n",
    "\n",
    "    plt.show()"
   ]
  }
 ],
 "metadata": {
  "kernelspec": {
   "display_name": "Python 3",
   "language": "python",
   "name": "python3"
  },
  "language_info": {
   "codemirror_mode": {
    "name": "ipython",
    "version": 3
   },
   "file_extension": ".py",
   "mimetype": "text/x-python",
   "name": "python",
   "nbconvert_exporter": "python",
   "pygments_lexer": "ipython3",
   "version": "3.6.7"
  }
 },
 "nbformat": 4,
 "nbformat_minor": 2
}
