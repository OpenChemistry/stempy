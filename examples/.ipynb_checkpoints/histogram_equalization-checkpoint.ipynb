{
 "cells": [
  {
   "cell_type": "code",
   "execution_count": null,
   "metadata": {},
   "outputs": [],
   "source": [
    "import sys\n",
    "import os\n",
    "from stempy import io, image\n",
    "import numpy as np\n",
    "from PIL import Image\n",
    "import matplotlib.pyplot as plt"
   ]
  },
  {
   "cell_type": "code",
   "execution_count": null,
   "metadata": {},
   "outputs": [],
   "source": [
    "files = glob.glob('/data/4dstem/smallScanningDiffraction/data*.dat')"
   ]
  },
  {
   "cell_type": "code",
   "execution_count": null,
   "metadata": {},
   "outputs": [],
   "source": [
    "inner_radii = [40]\n",
    "outer_radii = [288]"
   ]
  },
  {
   "cell_type": "code",
   "execution_count": null,
   "metadata": {},
   "outputs": [],
   "source": [
    "# file reader\n",
    "reader = io.reader(files)\n",
    "\n",
    "# generate STEM image\n",
    "imgs = image._create_stem_images(reader, inner_radii, outer_radii,\n",
    "                                width=160, height=160)\n",
    "imgs_np = [np.array(img, copy=False) for img in imgs]\n",
    "imgs_np = np.array(imgs_np, copy=False)"
   ]
  },
  {
   "cell_type": "code",
   "execution_count": null,
   "metadata": {},
   "outputs": [],
   "source": [
    "# perform equalization\n",
    "num_bins = 100\n",
    "num_hist = 1\n",
    "imgs_equalized = image.standard_histogram_equalization(imgs, num_bins)\n",
    "imgs_equalized_np = [np.array(img, copy=False) for img in imgs_equalized]\n",
    "imgs_equalized_np = np.array(imgs_equalized_np, copy=False)"
   ]
  },
  {
   "cell_type": "code",
   "execution_count": null,
   "metadata": {},
   "outputs": [],
   "source": [
    "# show unequalized image\n",
    "for img in imgs_np:\n",
    "    fig,ax=plt.subplots(figsize=(6,6))\n",
    "    ax.matshow(img, cmap=plt.cm.gray)\n",
    "    plt.show()"
   ]
  },
  {
   "cell_type": "code",
   "execution_count": null,
   "metadata": {},
   "outputs": [],
   "source": [
    "# show equalized image\n",
    "for img in imgs_equalized_np:\n",
    "    fig,ax=plt.subplots(figsize=(6,6))\n",
    "    ax.matshow(img, cmap=plt.cm.gray)\n",
    "    plt.show()"
   ]
  }
 ],
 "metadata": {
  "kernelspec": {
   "display_name": "Python 3",
   "language": "python",
   "name": "python3"
  },
  "language_info": {
   "codemirror_mode": {
    "name": "ipython",
    "version": 3
   },
   "file_extension": ".py",
   "mimetype": "text/x-python",
   "name": "python",
   "nbconvert_exporter": "python",
   "pygments_lexer": "ipython3",
   "version": "3.7.3"
  }
 },
 "nbformat": 4,
 "nbformat_minor": 2
}
