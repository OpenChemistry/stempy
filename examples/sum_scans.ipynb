{
 "cells": [
  {
   "cell_type": "markdown",
   "metadata": {},
   "source": [
    "# Sum together multiple 4D STEM scans"
   ]
  },
  {
   "cell_type": "code",
   "execution_count": 1,
   "metadata": {},
   "outputs": [],
   "source": [
    "%matplotlib widget\n",
    "\n",
    "from pathlib import Path\n",
    "\n",
    "import h5py\n",
    "import numpy as np\n",
    "import matplotlib.pyplot as plt\n",
    "import imageio\n",
    "\n",
    "import ncempy.algo as nalgo\n",
    "import ncempy.io as nio\n",
    "\n",
    "import stempy.io as stio\n",
    "import stempy.image as stim\n",
    "from stempy.utils import safe_array\n"
   ]
  },
  {
   "cell_type": "code",
   "execution_count": 123,
   "metadata": {},
   "outputs": [
    {
     "name": "stdout",
     "output_type": "stream",
     "text": [
      "File: /mnt/hdd1/2020.11.30_Au/data_scan110_th4.5_electrons_centered.h5\n",
      "Initial scan dimensions = [257, 1024]\n",
      "File: /mnt/hdd1/2020.11.30_Au/data_scan111_th4.5_electrons_centered.h5\n",
      "Initial scan dimensions = [257, 1024]\n",
      "File: /mnt/hdd1/2020.11.30_Au/data_scan112_th4.5_electrons_centered.h5\n",
      "Initial scan dimensions = [257, 1024]\n",
      "File: /mnt/hdd1/2020.11.30_Au/data_scan113_th4.5_electrons_centered.h5\n",
      "Initial scan dimensions = [257, 1024]\n"
     ]
    }
   ],
   "source": [
    "# Load a sparse 4D camera data set\n",
    "\n",
    "# Close all previous windows to avoid too many windows\n",
    "plt.close('all')\n",
    "\n",
    "scan_nums = (110, 111, 112, 113)\n",
    "threshold = 4.5\n",
    "\n",
    "all = []\n",
    "for scan_num in scan_nums:\n",
    "    dPath = Path('/mnt/hdd1/2020.11.30_Au')\n",
    "    fPath = Path('data_scan{}_th{}_electrons_centered.h5'.format(scan_num, threshold))\n",
    "\n",
    "    fname = dPath / fPath\n",
    "\n",
    "    electron_events = stio.load_electron_counts(str(fname))\n",
    "    \n",
    "    all.append(electron_events.data)\n",
    "    \n",
    "    print('File: {}'.format(fname))\n",
    "    print('Initial scan dimensions = {}'.format(electron_events.scan_shape[::-1]))"
   ]
  },
  {
   "cell_type": "code",
   "execution_count": 124,
   "metadata": {},
   "outputs": [],
   "source": [
    "out = []\n",
    "for ii in range(all[0].shape[0]):\n",
    "    tt = np.hstack([pp[ii] for pp in all])\n",
    "    out.append(tt)\n",
    "events_summed = np.array([safe_array(x, copy=False) for x in out], dtype=np.object)"
   ]
  },
  {
   "cell_type": "code",
   "execution_count": 125,
   "metadata": {},
   "outputs": [
    {
     "data": {
      "application/vnd.jupyter.widget-view+json": {
       "model_id": "859120077a164794a1950173f2d8786c",
       "version_major": 2,
       "version_minor": 0
      },
      "text/plain": [
       "Canvas(toolbar=Toolbar(toolitems=[('Home', 'Reset original view', 'home', 'home'), ('Back', 'Back to previous …"
      ]
     },
     "metadata": {},
     "output_type": "display_data"
    },
    {
     "data": {
      "text/plain": [
       "<matplotlib.image.AxesImage at 0x7f0939604310>"
      ]
     },
     "execution_count": 125,
     "metadata": {},
     "output_type": "execute_result"
    }
   ],
   "source": [
    "dp = stim.calculate_sum_sparse(events_summed[100], (576, 576))\n",
    "dp0 = stim.calculate_sum_sparse(all[0][100], (576, 576))\n",
    "dp1 = stim.calculate_sum_sparse(all[1][100], (576, 576))\n",
    "\n",
    "from matplotlib.colors import LogNorm\n",
    "fg,ax = plt.subplots(3, 1, sharex=True,sharey=True)\n",
    "ax[0].imshow(dp+1,norm=LogNorm())\n",
    "ax[1].imshow(dp0+1,norm=LogNorm())\n",
    "ax[2].imshow(dp1+1,norm=LogNorm())"
   ]
  },
  {
   "cell_type": "code",
   "execution_count": 127,
   "metadata": {},
   "outputs": [],
   "source": [
    "import h5py\n",
    "\n",
    "\n",
    "events = events_summed\n",
    "scan_dimensions = electron_events.scan_shape[::-1]\n",
    "frame_dimensions = electron_events.frame_shape\n",
    "\n",
    "with h5py.File(fname.with_name('battery_summed.h5'), 'w') as f:\n",
    "    group = f.require_group('electron_events')\n",
    "    scan_positions = group.create_dataset('scan_positions', (events.shape[0],), dtype=np.int32)\n",
    "    # For now just assume we have all the frames, so the event index can\n",
    "    # be used to derive the scan_postions.\n",
    "    # TODO: This should be passed to use\n",
    "    scan_positions[...] = [i for i in range(0, events.shape[0])]\n",
    "    scan_positions.attrs['Nx'] = scan_dimensions[0]\n",
    "    scan_positions.attrs['Ny'] = scan_dimensions[1]\n",
    "\n",
    "    coordinates_type = h5py.special_dtype(vlen=np.uint32)\n",
    "    frames = group.create_dataset('frames', (events.shape[0],), dtype=coordinates_type)\n",
    "    # Add the frame dimensions as attributes\n",
    "    frames.attrs['Nx'] = frame_dimensions[0]\n",
    "    frames.attrs['Ny'] = frame_dimensions[1]\n",
    "\n",
    "    frames[...] = events"
   ]
  }
 ],
 "metadata": {
  "kernelspec": {
   "display_name": "Python 3",
   "language": "python",
   "name": "python3"
  },
  "language_info": {
   "codemirror_mode": {
    "name": "ipython",
    "version": 3
   },
   "file_extension": ".py",
   "mimetype": "text/x-python",
   "name": "python",
   "nbconvert_exporter": "python",
   "pygments_lexer": "ipython3",
   "version": "3.8.10"
  }
 },
 "nbformat": 4,
 "nbformat_minor": 4
}
