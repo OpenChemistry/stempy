{
 "cells": [
  {
   "cell_type": "markdown",
   "id": "sexual-graduation",
   "metadata": {},
   "source": [
    "# Example working with Sparse data from NCEM 4D Camera\n",
    " - this uses all raw code in case the user does not have access to stempy\n",
    " - show how to read the data from the HDF5 file\n",
    " - show how to create a frame from the entire data set (128*129 frames) and 1 single frame\n",
    " - show example FFT output desired"
   ]
  },
  {
   "cell_type": "code",
   "execution_count": null,
   "id": "light-forth",
   "metadata": {},
   "outputs": [],
   "source": [
    "%matplotlib widget\n",
    "\n",
    "from pathlib import Path\n",
    "\n",
    "import matplotlib.pyplot as plt\n",
    "from matplotlib.colors import LogNorm\n",
    "import numpy as np\n",
    "import h5py"
   ]
  },
  {
   "cell_type": "code",
   "execution_count": null,
   "id": "developed-martial",
   "metadata": {},
   "outputs": [],
   "source": [
    "# Load a sparse 4D camera data set\n",
    "\n",
    "plt.close('all')\n",
    "\n",
    "scanNum = 155\n",
    "threshold = 4.5\n",
    "\n",
    "dPath = Path('/mnt/hdd1/2021.07.07')\n",
    "fPath = Path('data_scan{}_th{}_electrons.h5'.format(scanNum, threshold))\n",
    "print(dPath / fPath)\n",
    "\n",
    "with h5py.File(dPath / fPath,'r') as f0:\n",
    "    ee = f0['electron_events/frames'][:]\n",
    "    scan_dimensions = (f0['electron_events/scan_positions'].attrs['Ny'],f0['electron_events/scan_positions'].attrs['Nx'])\n",
    "print('Scan dimensions = {}'.format(scan_dimensions))\n",
    "\n",
    "print('Initial scan dimensions (col, row) = {}'.format(scan_dimensions))"
   ]
  },
  {
   "cell_type": "code",
   "execution_count": null,
   "id": "young-numbers",
   "metadata": {},
   "outputs": [],
   "source": [
    "# Calculate a summed diffraction pattern\n",
    "dp = np.zeros((576*576, ),'<u4')\n",
    "for ii,ev in enumerate(ee[::10]):\n",
    "    dp[ev] += 1\n",
    "dp = dp.reshape((576,576))\n",
    "\n",
    "fg,ax = plt.subplots(1, 2)\n",
    "ax[0].imshow(dp, norm=None)\n",
    "ax[1].imshow(np.abs(np.fft.fftshift(np.fft.fft2(dp))), norm=LogNorm())\n"
   ]
  },
  {
   "cell_type": "code",
   "execution_count": null,
   "id": "wired-synthesis",
   "metadata": {},
   "outputs": [],
   "source": [
    "# Calculate a single diffraction pattern\n",
    "dp = np.zeros((576*576, ),'<u4')\n",
    "for ii,ev in enumerate(ee[100]):\n",
    "    dp[ev] += 1\n",
    "dp = dp.reshape((576,576))\n",
    "\n",
    "fg,ax = plt.subplots(1, 2)\n",
    "ax[0].imshow(dp)\n",
    "ax[1].imshow(np.abs(np.fft.fftshift(np.fft.fft2(dp))), norm=LogNorm())"
   ]
  }
 ],
 "metadata": {
  "kernelspec": {
   "display_name": "NERSC Python",
   "language": "python",
   "name": "python3"
  },
  "language_info": {
   "codemirror_mode": {
    "name": "ipython",
    "version": 3
   },
   "file_extension": ".py",
   "mimetype": "text/x-python",
   "name": "python",
   "nbconvert_exporter": "python",
   "pygments_lexer": "ipython3",
   "version": "3.9.7"
  },
  "widgets": {
   "application/vnd.jupyter.widget-state+json": {
    "state": {
     "072c7dfc759a4f47b26891db9aa525e9": {
      "model_module": "@jupyter-widgets/base",
      "model_module_version": "1.2.0",
      "model_name": "LayoutModel",
      "state": {}
     },
     "1b63d16e4b254ba6ab26dcb45aa088a8": {
      "model_module": "@jupyter-widgets/base",
      "model_module_version": "1.2.0",
      "model_name": "LayoutModel",
      "state": {}
     },
     "30ce005888e74ef49fd19cf60364926b": {
      "model_module": "jupyter-matplotlib",
      "model_module_version": "^0.9.0",
      "model_name": "ToolbarModel",
      "state": {
       "layout": "IPY_MODEL_3cd327959a01435992f50e08c5f3632b",
       "toolitems": [
        [
         "Home",
         "Reset original view",
         "home",
         "home"
        ],
        [
         "Back",
         "Back to previous view",
         "arrow-left",
         "back"
        ],
        [
         "Forward",
         "Forward to next view",
         "arrow-right",
         "forward"
        ],
        [
         "Pan",
         "Left button pans, Right button zooms\nx/y fixes axis, CTRL fixes aspect",
         "arrows",
         "pan"
        ],
        [
         "Zoom",
         "Zoom to rectangle\nx/y fixes axis, CTRL fixes aspect",
         "square-o",
         "zoom"
        ],
        [
         "Download",
         "Download plot",
         "floppy-o",
         "save_figure"
        ]
       ]
      }
     },
     "3819cd2deb814dc09641bfaec8de2d35": {
      "model_module": "jupyter-matplotlib",
      "model_module_version": "^0.9.0",
      "model_name": "MPLCanvasModel",
      "state": {
       "_cursor": "default",
       "_figure_label": "Figure 2",
       "_height": 480,
       "_width": 640,
       "layout": "IPY_MODEL_072c7dfc759a4f47b26891db9aa525e9",
       "toolbar": "IPY_MODEL_30ce005888e74ef49fd19cf60364926b",
       "toolbar_position": "left"
      }
     },
     "3cd327959a01435992f50e08c5f3632b": {
      "model_module": "@jupyter-widgets/base",
      "model_module_version": "1.2.0",
      "model_name": "LayoutModel",
      "state": {}
     },
     "67102f967a0c40b899f13e0d4266f204": {
      "model_module": "jupyter-matplotlib",
      "model_module_version": "^0.9.0",
      "model_name": "MPLCanvasModel",
      "state": {
       "_cursor": "default",
       "_figure_label": "Figure 1",
       "_height": 480,
       "_message": "x=159. y=126.\n[4.07e+03]",
       "_width": 640,
       "layout": "IPY_MODEL_1b63d16e4b254ba6ab26dcb45aa088a8",
       "toolbar": "IPY_MODEL_a4b9e94bda384de2aa62946447514441",
       "toolbar_position": "left"
      }
     },
     "a4b9e94bda384de2aa62946447514441": {
      "model_module": "jupyter-matplotlib",
      "model_module_version": "^0.9.0",
      "model_name": "ToolbarModel",
      "state": {
       "layout": "IPY_MODEL_f5be41686ca04132ab4d2ae183e90e51",
       "toolitems": [
        [
         "Home",
         "Reset original view",
         "home",
         "home"
        ],
        [
         "Back",
         "Back to previous view",
         "arrow-left",
         "back"
        ],
        [
         "Forward",
         "Forward to next view",
         "arrow-right",
         "forward"
        ],
        [
         "Pan",
         "Left button pans, Right button zooms\nx/y fixes axis, CTRL fixes aspect",
         "arrows",
         "pan"
        ],
        [
         "Zoom",
         "Zoom to rectangle\nx/y fixes axis, CTRL fixes aspect",
         "square-o",
         "zoom"
        ],
        [
         "Download",
         "Download plot",
         "floppy-o",
         "save_figure"
        ]
       ]
      }
     },
     "f5be41686ca04132ab4d2ae183e90e51": {
      "model_module": "@jupyter-widgets/base",
      "model_module_version": "1.2.0",
      "model_name": "LayoutModel",
      "state": {}
     }
    },
    "version_major": 2,
    "version_minor": 0
   }
  }
 },
 "nbformat": 4,
 "nbformat_minor": 5
}
